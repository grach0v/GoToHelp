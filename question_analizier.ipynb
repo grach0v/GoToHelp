{
 "cells": [
  {
   "cell_type": "code",
   "execution_count": 1,
   "metadata": {},
   "outputs": [],
   "source": [
    "import pymorphy2\n",
    "import re\n",
    "from collections import defaultdict\n"
   ]
  },
  {
   "cell_type": "code",
   "execution_count": 2,
   "metadata": {},
   "outputs": [],
   "source": [
    "class Question_analizier:\n",
    "    morph = pymorphy2.MorphAnalyzer ()\n",
    "    questions = []\n",
    "    all_words = defaultdict(lambda: 0)\n",
    "    \n",
    "    def get_set (self, question):\n",
    "        words = re.findall(r'[^\\s!,.?\":;0-9]+', question)\n",
    "        ret_set = set ()\n",
    "        \n",
    "        for word in words:\n",
    "            self.all_words [word] += 1\n",
    "            ret_set.add (self.morph.parse (word)[0].normal_form)\n",
    "            \n",
    "        return ret_set\n",
    "    \n",
    "    def add_question (self, question):\n",
    "        self.questions.append (set())\n",
    "        self.questions [-1] = self.get_set (question)\n",
    "        \n",
    "    def expend_question (self, question_id, another_question):\n",
    "        set_to_add = self.get_set (another_question)\n",
    "        self.questions [question_id] += set_to_add\n",
    "        \n",
    "    def get_closest_question (self, question):\n",
    "        words = self.get_set (question)\n",
    "        least_distance = float (\"inf\")\n",
    "        least_id = -1\n",
    "        \n",
    "        for i in range (len(self.questions)):\n",
    "            words_in_common = len (words & self.questions [i]) + 1 #not to devide by 0\n",
    "            words_at_all = len (words) + len (self.questions [i]) \n",
    "            \n",
    "            if words_at_all/(words_in_common*words_in_common) < least_distance:\n",
    "                least_distance = words_at_all/(words_in_common*words_in_common)\n",
    "                least_id = i\n",
    "                \n",
    "        return least_id, least_distance\n",
    "    \n",
    "    def get_popular_themes (self, number):\n",
    "        return sorted(self.all_words.items(), key=lambda item:item[1])[-number:]\n"
   ]
  },
  {
   "cell_type": "code",
   "execution_count": 3,
   "metadata": {},
   "outputs": [],
   "source": [
    "class Question_interpriter:\n",
    "    edited_questions = Question_analizier ()\n",
    "    questions = []\n",
    "    answers = []\n",
    "    \n",
    "    def add (self, question, answer):\n",
    "        self.edited_questions.add_question (question)\n",
    "        self.questions.append (question)\n",
    "        self.answers.append (answer)\n",
    "        \n",
    "    def get_answer (self, question):\n",
    "        least_id, least_distance = self.edited_questions.get_closest_question (question)\n",
    "        \n",
    "        if least_distance > 0: #should add some value, not 0\n",
    "            return self.answers [least_id], least_id\n",
    "        else:\n",
    "            return 'may be this will help you\\n' + 'question:\\n' + questions [least_id] + '\\nanswer:\\n' + answers [least_id]\n",
    "            \n",
    "    def expend_question (self, question_id, question):\n",
    "        self.edited_questions.expend_question (question_id, question)"
   ]
  },
  {
   "cell_type": "code",
   "execution_count": 4,
   "metadata": {},
   "outputs": [],
   "source": [
    "test = Question_interpriter ()\n",
    "test.add (\"не течет горячая вода\", \"надо подождать и она включится\")\n",
    "test.add (\"как заработать готокоины\", \"усердно кодить и участвовать в различных конкурсках\")\n",
    "test.add (\"я купил ужин на готокоины, его не было, а смена закончилась. Могу ли я вернуть готокоины\", \":(\")\n",
    "test.add (\"у меня болит голова\", \"сходи к доктору. Ее номер 8*********\")\n",
    "test.add (\"мне надо написать еще вопросов\", \"и еще ответов\")"
   ]
  },
  {
   "cell_type": "code",
   "execution_count": null,
   "metadata": {},
   "outputs": [],
   "source": []
  }
 ],
 "metadata": {
  "kernelspec": {
   "display_name": "Python 3",
   "language": "python",
   "name": "python3"
  },
  "language_info": {
   "codemirror_mode": {
    "name": "ipython",
    "version": 3
   },
   "file_extension": ".py",
   "mimetype": "text/x-python",
   "name": "python",
   "nbconvert_exporter": "python",
   "pygments_lexer": "ipython3",
   "version": "3.6.3"
  }
 },
 "nbformat": 4,
 "nbformat_minor": 2
}
