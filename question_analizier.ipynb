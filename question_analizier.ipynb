{
 "cells": [
  {
   "cell_type": "code",
   "execution_count": 1,
   "metadata": {},
   "outputs": [],
   "source": [
    "import pymorphy2\n",
    "import re\n",
    "from collections import defaultdict\n",
    "from math import floor\n"
   ]
  },
  {
   "cell_type": "code",
   "execution_count": 2,
   "metadata": {},
   "outputs": [],
   "source": [
    "class Question_analizier:\n",
    "    morph = pymorphy2.MorphAnalyzer ()\n",
    "    questions = []\n",
    "    all_words = defaultdict(lambda: 0)\n",
    "    number_of_words = 0\n",
    "    \n",
    "    def printf (self):\n",
    "        print ('questions\\n', self.questions, '\\n')\n",
    "    \n",
    "    def get_set (self, question):\n",
    "        words = re.findall(r'[^\\s!,.?\":;0-9]+', question)\n",
    "        ret_set = set ()\n",
    "        \n",
    "        for word in words:\n",
    "            word_type = self.morph.parse (word)[0].tag.POS\n",
    "            #теперь не добавляется всякий мусор\n",
    "            if word_type != 'INTJ' and word_type != 'PRCL' and word_type != 'CONJ' and word_type != 'PREP' and word_type != 'NPRO':\n",
    "                ret_set.add (self.morph.parse (word)[0].normal_form) \n",
    "                self.all_words [word] += 1\n",
    "                self.number_of_words += 1\n",
    "            \n",
    "        return ret_set        \n",
    "    \n",
    "    def add_question (self, question):\n",
    "        self.questions.append (set())\n",
    "        self.questions [-1] = self.get_set (question)\n",
    "        \n",
    "    def expend_question (self, question_id, another_question):\n",
    "        set_to_add = self.get_set (another_question)\n",
    "        self.questions [question_id] = self.questions [question_id] | set_to_add\n",
    "        \n",
    "    def get_distance (self, question_1, question_2):\n",
    "        score = 0;        \n",
    "        for word_in_common in (question_1 & question_2):\n",
    "            score += self.number_of_words - self.all_words [word_in_common] #чем реже слово, тем оно важнее. Другой вариант 1/self.all_words [word_in_common]\n",
    "        \n",
    "        #all_words = len (question_1 | question_2)        \n",
    "        #all_words += 1 #чтобы не делить на 0\n",
    "        \n",
    "        return 1/(score+1)\n",
    "        \n",
    "    def get_closest_question (self, question):\n",
    "        words = self.get_set (question)\n",
    "        least_distance_1 = float (\"inf\")\n",
    "        least_id_1 = -1\n",
    "        \n",
    "        least_distance_2 = float (\"inf\")\n",
    "        least_id_2 = -1\n",
    "        \n",
    "        least_distance_3 = float (\"inf\")\n",
    "        least_id_3 = -1\n",
    "        \n",
    "        for i in range (len(self.questions)):\n",
    "            \n",
    "            distance = self.get_distance (words, self.questions [i])\n",
    "            \n",
    "            if distance < least_distance_1:\n",
    "                least_distance_2 = least_distance_1\n",
    "                least_id_2 = least_id_1\n",
    "                \n",
    "                least_distance_1 = distance\n",
    "                least_id_1 = i\n",
    "            elif distance < least_distance_2:\n",
    "                least_distance_3 = least_distance_2\n",
    "                least_id_3 = least_id_2\n",
    "                \n",
    "                least_distance_2 = distance\n",
    "                least_id_2 = i                \n",
    "            elif distance < least_distance_3:\n",
    "                least_distance_3 = distance\n",
    "                least_id_3 = i\n",
    "                \n",
    "            print ((least_id_1, least_id_2, least_id_3, self.questions [i]))\n",
    "                \n",
    "        return least_id_1, least_id_2, least_id_3\n",
    "    \n",
    "    def get_popular_themes (self, number):\n",
    "        return sorted(self.all_words.items(), key=lambda item:item[1])[-number:]"
   ]
  },
  {
   "cell_type": "code",
   "execution_count": 3,
   "metadata": {},
   "outputs": [],
   "source": [
    "class Question_interpriter:\n",
    "    edited_questions = Question_analizier ()\n",
    "    questions = []\n",
    "    answers = []\n",
    "    \n",
    "    def add (self, question, answer):\n",
    "        self.edited_questions.add_question (question + ' ' + answer)\n",
    "        self.questions.append (question)\n",
    "        self.answers.append (answer)\n",
    "        \n",
    "    def get_answer (self, question):\n",
    "        id_1, id_2, id_3 = self.edited_questions.get_closest_question (question)\n",
    "        return [self.answers [id_1], self.answers [id_2], self.answers [id_3]]\n",
    "            \n",
    "    def expend_question (self, question_id, question):\n",
    "        self.edited_questions.expend_question (question_id, question)\n",
    "        \n",
    "    def printf (self):\n",
    "        print ('questions\\n')\n",
    "        print (self.questions)\n",
    "        print ('\\nanswers\\n')\n",
    "        print (self.answers)\n",
    "        self.edited_questions.printf ()\n",
    "    \n",
    "    def __init__ (self, path):\n",
    "        counter = 0\n",
    "        file = open (path, 'r')\n",
    "        \n",
    "        for line in file:\n",
    "            if not line.isspace():\n",
    "                \n",
    "                if counter % 2 == 0:\n",
    "                    self.edited_questions.add_question (line)\n",
    "                    self.questions.append (line)\n",
    "                else:                    \n",
    "                    self.edited_questions.expend_question(floor (counter/2), line)\n",
    "                    self.answers.append (line)\n",
    "                \n",
    "                counter += 1\n",
    "        \n",
    "        file.close\n",
    "            "
   ]
  },
  {
   "cell_type": "code",
   "execution_count": 4,
   "metadata": {},
   "outputs": [],
   "source": [
    "GoToHelp = Question_interpriter ('cases.txt')"
   ]
  },
  {
   "cell_type": "code",
   "execution_count": 5,
   "metadata": {},
   "outputs": [],
   "source": [
    "import telebot\n",
    "token = '469148892:AAFTem8u1mydH0SXjPRTU8RmpU4R15lVSWc'\n",
    "password = '2718281828459045'\n",
    "start_message = 'Здравствуйте! Я бот, который поможет вам найти ответы на вопросы по школе программирования GoTo.'\n",
    "help_message = 'Чтобы задать вопрос, просто напишите боту, что вы хотели узнать.' + \\\n",
    "               'Чтобы добавить вопрос в базу данных, вы должны знать пароль. Нажмите кнопку \"/добавить_вопрос\", введите пароль, введите вопрос и на следующей строке ответ'\n",
    "bot = telebot.TeleBot (token)\n",
    "admins_id = set ()\n",
    "command_set = {}\n",
    "expend_question = ''\n",
    "expend_question_id = -1\n"
   ]
  },
  {
   "cell_type": "code",
   "execution_count": 6,
   "metadata": {},
   "outputs": [],
   "source": [
    "@bot.message_handler (commands = ['start'])\n",
    "def handle_start (message):\n",
    "    bot.send_message (message.from_user.id, start_message)"
   ]
  },
  {
   "cell_type": "code",
   "execution_count": 7,
   "metadata": {},
   "outputs": [],
   "source": [
    "@bot.message_handler (commands = ['help'])\n",
    "def handle_help (message):\n",
    "    bot.send_message (message.from_user.id, help_message)    "
   ]
  },
  {
   "cell_type": "code",
   "execution_count": 8,
   "metadata": {},
   "outputs": [],
   "source": [
    "@bot.message_handler (commands = ['add_question'])\n",
    "def handle_add_question (message):\n",
    "    global command_set\n",
    "    \n",
    "    if message.from_user.id in admins_id:\n",
    "        command_set [message.from_user.id] = 'вводит вопрос'\n",
    "        bot.send_message (message.from_user.id, 'введите вопрос и на следующей строке ответ')       \n",
    "    else:        \n",
    "        command_set [message.from_user.id] = 'вводит пароль'\n",
    "        bot.send_message (message.from_user.id, 'введите пароль')\n",
    "        \n",
    "    "
   ]
  },
  {
   "cell_type": "code",
   "execution_count": 9,
   "metadata": {},
   "outputs": [],
   "source": [
    "@bot.message_handler (content_types = ['text'])\n",
    "def handle_text (message):\n",
    "    global commad_set\n",
    "    global admins_id\n",
    "    global GoToHelp\n",
    "    \n",
    "    print (command_set.get (message.from_user.id))\n",
    "    print (message.text)\n",
    "    \n",
    "    if command_set.get (message.from_user.id) == 'вводит пароль':\n",
    "        if message.text == password:\n",
    "            admins_id.add (message.from_user.id)\n",
    "            handle_add_question (message)\n",
    "        else:\n",
    "            command_set [message.from_user.id] == ''\n",
    "            bot.send_message (message.from_user.id, 'пароль неверный')\n",
    "    elif command_set.get (message.from_user.id) == 'вводит вопрос':\n",
    "        command_set [message.from_user.id] = ''\n",
    "        GoToHelp.add (message.text.splitlines()[0], message.text.splitlines()[1])\n",
    "        bot.send_message (message.from_user.id, 'вопрос добавлен в')\n",
    "            \n",
    "    else:\n",
    "        answers = GoToHelp.get_answer (message.text)\n",
    "        bot.send_message (message.from_user.id, '1)' + answers [0])\n",
    "        bot.send_message (message.from_user.id, '2)' + answers [1])\n",
    "        bot.send_message (message.from_user.id, '3)' + answers [2])"
   ]
  },
  {
   "cell_type": "code",
   "execution_count": null,
   "metadata": {
    "scrolled": false
   },
   "outputs": [
    {
     "name": "stdout",
     "output_type": "stream",
     "text": [
      "вводит пароль\n",
      "2718281828459045\n",
      "enter password\n",
      "ok\n",
      "вводит вопрос\n",
      "Как мне добавить словарь синонимов\n",
      "Нужно парсить сайты с помощью beautifulsoap\n",
      "\n",
      "Как мне найти синонимы\n",
      "(0, -1, -1, {'плохой', 'доктор', 'самочувствие', '*********', 'номер', 'делать', 'плохо', 'чувсвый', 'навести'})\n",
      "(0, 1, -1, {'другой', 'нравиться', 'комната', 'хотеть', 'кома', 'директор', 'мочь', 'твой', 'тот', 'лагерь', 'бесячий', 'переехать', 'нужно', 'сосед', 'договориться'})\n",
      "(0, 1, 2, {'хорошо', 'gotocoin', 'готокоина', 'тот', 'получить', 'нужно', 'майнить', 'участвовать', 'различный', 'нельзя', 'задание', 'пара', 'конкурс', 'выполнять'})\n",
      "(0, 1, 2, {'где', 'находиться', 'купить', 'база', 'головинк', 'магазин', 'мороженный', 'выход', 'отдых'})\n",
      "(0, 1, 2, {'один', 'день', 'хотеть', 'свой', 'тестирование', 'интересный', 'желание', 'написать', 'попасть', 'хорошо', 'сообщить', 'тот', 'направление', 'нужно', 'собеседование', 'потом', 'который'})\n",
      "(0, 1, 2, {'где', 'кофе', 'лагерь', 'купить', 'нельзя', 'чипсы', 'сделать', 'время'})\n",
      "(6, 0, 2, {'парсить', 'помощь', 'синоним', 'сайт', 'нужно', 'добавить', 'beautifulsoap', 'словарь'})\n",
      "['Если у тебя плохое самочувствие, навести доктора. Ее номер 89*********\\n', 'Если тебе не нравится твой сосед, ты можешь переехать в другую комнату. Для этого нужно договориться с теми, к кому ты хочешь переехать и с Директором лагеря\\n', 'GoToCoin нельзя майнить. Для того чтобы их получить, нужно хорошо выполнять задания на парах и участвовать в различных конкурсах\\n', 'У выхода из базы отдыха Головинка находится магазин. \\n', 'Для того, чтобы попасть на интересное тебе направление, нужно хорошо написать по нему тестирование в первый день, потом сообщить о своём желании на собеседовании.\\n', 'Во время лагеря нельзя это сделать.\\n', 'Нужно парсить сайты с помощью beautifulsoap']\n",
      "(6, 0, 2)\n"
     ]
    }
   ],
   "source": [
    "bot.polling(none_stop=True) "
   ]
  },
  {
   "cell_type": "code",
   "execution_count": 1,
   "metadata": {},
   "outputs": [],
   "source": [
    "from bs4 import BeautifulSoup"
   ]
  },
  {
   "cell_type": "code",
   "execution_count": null,
   "metadata": {},
   "outputs": [],
   "source": []
  }
 ],
 "metadata": {
  "kernelspec": {
   "display_name": "Python 3",
   "language": "python",
   "name": "python3"
  },
  "language_info": {
   "codemirror_mode": {
    "name": "ipython",
    "version": 3
   },
   "file_extension": ".py",
   "mimetype": "text/x-python",
   "name": "python",
   "nbconvert_exporter": "python",
   "pygments_lexer": "ipython3",
   "version": "3.6.3"
  }
 },
 "nbformat": 4,
 "nbformat_minor": 2
}
